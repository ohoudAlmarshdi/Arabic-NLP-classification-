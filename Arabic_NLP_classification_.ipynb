{
  "nbformat": 4,
  "nbformat_minor": 0,
  "metadata": {
    "colab": {
      "name": "Arabic NLP classification .ipynb",
      "provenance": [],
      "toc_visible": true,
      "authorship_tag": "ABX9TyPgkywBGlAz6VTsWStpww8R",
      "include_colab_link": true
    },
    "kernelspec": {
      "name": "python3",
      "display_name": "Python 3"
    }
  },
  "cells": [
    {
      "cell_type": "markdown",
      "metadata": {
        "id": "view-in-github",
        "colab_type": "text"
      },
      "source": [
        "<a href=\"https://colab.research.google.com/github/ohoudAlmarshdi/Arabic-NLP-classification-/blob/master/Arabic_NLP_classification_.ipynb\" target=\"_parent\"><img src=\"https://colab.research.google.com/assets/colab-badge.svg\" alt=\"Open In Colab\"/></a>"
      ]
    },
    {
      "cell_type": "markdown",
      "metadata": {
        "id": "LUSXH5K92Yfu",
        "colab_type": "text"
      },
      "source": [
        "# **Saudi Novels Classification**\n",
        "use the content of novels on internet to do a community Analysis for the Saudi writers."
      ]
    },
    {
      "cell_type": "markdown",
      "metadata": {
        "id": "dQdQ_r3B2thj",
        "colab_type": "text"
      },
      "source": [
        "### Problem statement:\n",
        "\n",
        "classify Saudi novels on internet into its types in literature and use the novels content text feature to predict the category of the Novels using classification. I will describe what makes each class charactitaristically unique, describe what is both certain and uncertain using precision and recall as success metrics.\n",
        "\n"
      ]
    },
    {
      "cell_type": "markdown",
      "metadata": {
        "id": "AIMD_93iEmXg",
        "colab_type": "text"
      },
      "source": [
        "### Imports"
      ]
    },
    {
      "cell_type": "code",
      "metadata": {
        "id": "2Cmt4f0XEy1w",
        "colab_type": "code",
        "colab": {
          "base_uri": "https://localhost:8080/",
          "height": 105
        },
        "outputId": "c1862220-1355-4e62-9ab5-9581448427dd"
      },
      "source": [
        "\n",
        "\n",
        "import os\n",
        "import csv\n",
        "import glob\n",
        "\n",
        "import pandas as pd\n",
        "import numpy as np \n",
        "from sklearn import preprocessing\n",
        "from sklearn.feature_extraction.text import CountVectorizer, TfidfTransformer, TfidfVectorizer\n",
        "from sklearn.model_selection import train_test_split\n",
        "import seaborn as sns\n",
        "import matplotlib.pyplot as plt\n",
        "\n",
        "#modling\n",
        "from sklearn.naive_bayes import MultinomialNB, BernoulliNB, GaussianNB\n",
        "from sklearn.metrics import classification_report\n",
        "from sklearn.ensemble import RandomForestClassifier as RandomForest\n",
        "from sklearn.linear_model import LogisticRegression\n",
        "from sklearn.ensemble import RandomForestClassifier\n",
        "from sklearn.svm import LinearSVC\n",
        "from sklearn.model_selection import cross_val_score\n",
        "from sklearn.metrics import confusion_matrix\n",
        "from sklearn import metrics\n",
        "#neural network preprocessing\n",
        "from keras.utils.np_utils import to_categorical\n",
        "from keras.preprocessing.text import Tokenizer\n",
        "from keras.preprocessing.sequence import pad_sequences\n",
        "from keras.callbacks import EarlyStopping\n",
        "import re\n",
        "\n",
        "#neural network model \n",
        "import tensorflow as tf\n",
        "from keras.layers import Dense, Input, Flatten\n",
        "from keras.layers import GlobalAveragePooling1D, Embedding\n",
        "from keras.models import Model\n",
        "from keras.layers import  Embedding, LSTM, SpatialDropout1D\n",
        "from keras.models import Sequential\n",
        "import nltk\n",
        "nltk.download('stopwords')\n",
        "from nltk.corpus import stopwords\n",
        "\n",
        "\n"
      ],
      "execution_count": 1,
      "outputs": [
        {
          "output_type": "stream",
          "text": [
            "/usr/local/lib/python3.6/dist-packages/statsmodels/tools/_testing.py:19: FutureWarning: pandas.util.testing is deprecated. Use the functions in the public API at pandas.testing instead.\n",
            "  import pandas.util.testing as tm\n"
          ],
          "name": "stderr"
        },
        {
          "output_type": "stream",
          "text": [
            "[nltk_data] Downloading package stopwords to /root/nltk_data...\n",
            "[nltk_data]   Package stopwords is already up-to-date!\n"
          ],
          "name": "stdout"
        }
      ]
    },
    {
      "cell_type": "markdown",
      "metadata": {
        "id": "zdkupRDv5i7_",
        "colab_type": "text"
      },
      "source": [
        "#### Import data into Google Colaboratory\n",
        "The simplest way to share files is to mount your Google Drive.\n",
        "we will use the drive.mount to connect google drive with colab."
      ]
    },
    {
      "cell_type": "code",
      "metadata": {
        "id": "ZD65mnsaTCMe",
        "colab_type": "code",
        "colab": {
          "base_uri": "https://localhost:8080/",
          "height": 54
        },
        "outputId": "206a4abd-b31d-49f7-fef8-22b994260748"
      },
      "source": [
        "from google.colab import drive\n",
        "# connect drive with colab\n",
        "drive.mount('/content/drive')"
      ],
      "execution_count": 2,
      "outputs": [
        {
          "output_type": "stream",
          "text": [
            "Drive already mounted at /content/drive; to attempt to forcibly remount, call drive.mount(\"/content/drive\", force_remount=True).\n"
          ],
          "name": "stdout"
        }
      ]
    },
    {
      "cell_type": "markdown",
      "metadata": {
        "id": "ZyXNarcKez_3",
        "colab_type": "text"
      },
      "source": [
        "It will ask you to visit a link to ALLOW \"Google Files Stream\" to access your drive. After that a long alphanumeric auth code will be shown that needs to be entered in your Colab's notebook.\n",
        "\n",
        "Afterward, your Drive files will be mounted and you can browse them with the file browser in the side panel."
      ]
    },
    {
      "cell_type": "markdown",
      "metadata": {
        "id": "auB2cQzKH9_J",
        "colab_type": "text"
      },
      "source": [
        "## Data extraction and loading"
      ]
    },
    {
      "cell_type": "code",
      "metadata": {
        "id": "TDKivwntTPvI",
        "colab_type": "code",
        "colab": {}
      },
      "source": [
        "#extract text from text files then dawnlod it into datafram \n",
        "dirpath ='/content/drive/My Drive/TextFiles'\n",
        "output = 'output_file.csv'\n",
        "with open(output, 'w') as outfile:\n",
        "    csvout = csv.writer(outfile)\n",
        "    csvout.writerow(['FileName', 'Content'])\n",
        "\n",
        "    files = os.listdir(dirpath)\n",
        "\n",
        "    for filename in files:\n",
        "        with open(dirpath + '/' + filename,encoding=\"utf8\",errors='ignore') as afile:\n",
        "            csvout.writerow([filename,afile.read()])\n",
        "            afile.close()\n",
        "\n",
        "    outfile.close()"
      ],
      "execution_count": 3,
      "outputs": []
    },
    {
      "cell_type": "code",
      "metadata": {
        "id": "qr7q5tYzhJpG",
        "colab_type": "code",
        "colab": {}
      },
      "source": [
        "#dataset reading \n",
        "data=pd.read_csv('/content/output_file.csv')"
      ],
      "execution_count": 4,
      "outputs": []
    },
    {
      "cell_type": "markdown",
      "metadata": {
        "id": "rZX44c2XVU5h",
        "colab_type": "text"
      },
      "source": [
        "## EDA"
      ]
    },
    {
      "cell_type": "code",
      "metadata": {
        "id": "u4pk1QOxQkrh",
        "colab_type": "code",
        "colab": {
          "base_uri": "https://localhost:8080/",
          "height": 204
        },
        "outputId": "bdb3bb09-9b8b-4a6c-ef75-c628c28fd3f9"
      },
      "source": [
        "#datafrem\n",
        "data.head()"
      ],
      "execution_count": 5,
      "outputs": [
        {
          "output_type": "execute_result",
          "data": {
            "text/html": [
              "<div>\n",
              "<style scoped>\n",
              "    .dataframe tbody tr th:only-of-type {\n",
              "        vertical-align: middle;\n",
              "    }\n",
              "\n",
              "    .dataframe tbody tr th {\n",
              "        vertical-align: top;\n",
              "    }\n",
              "\n",
              "    .dataframe thead th {\n",
              "        text-align: right;\n",
              "    }\n",
              "</style>\n",
              "<table border=\"1\" class=\"dataframe\">\n",
              "  <thead>\n",
              "    <tr style=\"text-align: right;\">\n",
              "      <th></th>\n",
              "      <th>FileName</th>\n",
              "      <th>Content</th>\n",
              "    </tr>\n",
              "  </thead>\n",
              "  <tbody>\n",
              "    <tr>\n",
              "      <th>0</th>\n",
              "      <td>بدر سامحني.txt</td>\n",
              "      <td>\\nالفصل الاول\\n\\nانسدحت على السرير ويدها تحت ر...</td>\n",
              "    </tr>\n",
              "    <tr>\n",
              "      <th>1</th>\n",
              "      <td>الورطة 2.txt</td>\n",
              "      <td>\\n.................\\nنجود تراقب المكان ,, يمكن...</td>\n",
              "    </tr>\n",
              "    <tr>\n",
              "      <th>2</th>\n",
              "      <td>بصدري وجع كنت أحسبه نام يا صدري.txt</td>\n",
              "      <td>\\nالرياض ..\\nيناظر أبوه وهو يتكلم ..ماتحمل وقا...</td>\n",
              "    </tr>\n",
              "    <tr>\n",
              "      <th>3</th>\n",
              "      <td>الواقع المؤلم.txt</td>\n",
              "      <td>ام جوآهر بتعب: جواهر يابنيتي ليه عاد ماتبين تت...</td>\n",
              "    </tr>\n",
              "    <tr>\n",
              "      <th>4</th>\n",
              "      <td>بقايا أنثى مجروحة.txt</td>\n",
              "      <td>\\n-بالبداية راح أعطيكم نبذة عني أنا مشاعل..عمر...</td>\n",
              "    </tr>\n",
              "  </tbody>\n",
              "</table>\n",
              "</div>"
            ],
            "text/plain": [
              "                               FileName                                            Content\n",
              "0                        بدر سامحني.txt  \\nالفصل الاول\\n\\nانسدحت على السرير ويدها تحت ر...\n",
              "1                          الورطة 2.txt  \\n.................\\nنجود تراقب المكان ,, يمكن...\n",
              "2  بصدري وجع كنت أحسبه نام يا صدري.txt  \\nالرياض ..\\nيناظر أبوه وهو يتكلم ..ماتحمل وقا...\n",
              "3                    الواقع المؤلم.txt  ام جوآهر بتعب: جواهر يابنيتي ليه عاد ماتبين تت...\n",
              "4                بقايا أنثى مجروحة.txt  \\n-بالبداية راح أعطيكم نبذة عني أنا مشاعل..عمر..."
            ]
          },
          "metadata": {
            "tags": []
          },
          "execution_count": 5
        }
      ]
    },
    {
      "cell_type": "code",
      "metadata": {
        "id": "q0ew1z8aQrJL",
        "colab_type": "code",
        "colab": {
          "base_uri": "https://localhost:8080/",
          "height": 34
        },
        "outputId": "eab1368e-1f79-4828-942c-6e27dcdb9149"
      },
      "source": [
        "# the sahpe of the dataset(row,column)\n",
        "data.shape"
      ],
      "execution_count": 6,
      "outputs": [
        {
          "output_type": "execute_result",
          "data": {
            "text/plain": [
              "(1270, 2)"
            ]
          },
          "metadata": {
            "tags": []
          },
          "execution_count": 6
        }
      ]
    },
    {
      "cell_type": "code",
      "metadata": {
        "id": "FCpVbHFcQ4R5",
        "colab_type": "code",
        "colab": {}
      },
      "source": [
        "# content of the first text file\n",
        "#data['Content'].iloc[0]"
      ],
      "execution_count": 29,
      "outputs": []
    },
    {
      "cell_type": "code",
      "metadata": {
        "id": "neCRVRL7eDkf",
        "colab_type": "code",
        "colab": {
          "base_uri": "https://localhost:8080/",
          "height": 170
        },
        "outputId": "af5f469b-e89a-4f22-feca-3e037afab4af"
      },
      "source": [
        "# the dataset information \n",
        "data.info()"
      ],
      "execution_count": 8,
      "outputs": [
        {
          "output_type": "stream",
          "text": [
            "<class 'pandas.core.frame.DataFrame'>\n",
            "RangeIndex: 1270 entries, 0 to 1269\n",
            "Data columns (total 2 columns):\n",
            " #   Column    Non-Null Count  Dtype \n",
            "---  ------    --------------  ----- \n",
            " 0   FileName  1270 non-null   object\n",
            " 1   Content   1268 non-null   object\n",
            "dtypes: object(2)\n",
            "memory usage: 20.0+ KB\n"
          ],
          "name": "stdout"
        }
      ]
    },
    {
      "cell_type": "code",
      "metadata": {
        "id": "iLyUJEWRoUgr",
        "colab_type": "code",
        "colab": {}
      },
      "source": [
        "# function for clean text \n",
        "def remove_txt(name):\n",
        "    name = str(name)\n",
        "    name = name.replace('.txt', '')\n",
        "    return name\n",
        "\n",
        "data['Name'] = data['FileName'].apply(remove_txt)"
      ],
      "execution_count": 9,
      "outputs": []
    },
    {
      "cell_type": "code",
      "metadata": {
        "id": "WrrIKTszgiG9",
        "colab_type": "code",
        "colab": {}
      },
      "source": [
        "metadata=pd.read_excel('//content/drive/My Drive/SaudiNovelsMetadata_Ayne_team.xlsx')"
      ],
      "execution_count": 10,
      "outputs": []
    },
    {
      "cell_type": "code",
      "metadata": {
        "id": "fWsXWJRTjDtF",
        "colab_type": "code",
        "colab": {
          "base_uri": "https://localhost:8080/",
          "height": 272
        },
        "outputId": "7b5541c0-f843-4de3-df7e-888d63b5f51d"
      },
      "source": [
        "metadata.head()"
      ],
      "execution_count": 11,
      "outputs": [
        {
          "output_type": "execute_result",
          "data": {
            "text/html": [
              "<div>\n",
              "<style scoped>\n",
              "    .dataframe tbody tr th:only-of-type {\n",
              "        vertical-align: middle;\n",
              "    }\n",
              "\n",
              "    .dataframe tbody tr th {\n",
              "        vertical-align: top;\n",
              "    }\n",
              "\n",
              "    .dataframe thead th {\n",
              "        text-align: right;\n",
              "    }\n",
              "</style>\n",
              "<table border=\"1\" class=\"dataframe\">\n",
              "  <thead>\n",
              "    <tr style=\"text-align: right;\">\n",
              "      <th></th>\n",
              "      <th>Name</th>\n",
              "      <th>Author</th>\n",
              "      <th>Year</th>\n",
              "      <th># of Words</th>\n",
              "      <th>Parts, if available</th>\n",
              "      <th>content_types</th>\n",
              "      <th>novels_class</th>\n",
              "      <th>country</th>\n",
              "    </tr>\n",
              "  </thead>\n",
              "  <tbody>\n",
              "    <tr>\n",
              "      <th>0</th>\n",
              "      <td>إليك يامن زرعت في قلبي أزهار الربيع</td>\n",
              "      <td>أمك تجيبك وأنا أبتلي</td>\n",
              "      <td>2003.0</td>\n",
              "      <td>20835.0</td>\n",
              "      <td>NaN</td>\n",
              "      <td>دراما - اكشن - جريمة - عسكري</td>\n",
              "      <td>بوليسية</td>\n",
              "      <td>NaN</td>\n",
              "    </tr>\n",
              "    <tr>\n",
              "      <th>1</th>\n",
              "      <td>مدرسة المشاغبين السبع !</td>\n",
              "      <td>وردة حمراء</td>\n",
              "      <td>2003.0</td>\n",
              "      <td>178800.0</td>\n",
              "      <td>NaN</td>\n",
              "      <td>رومانسي - مثلية جنسية-مدرسي</td>\n",
              "      <td>اجتماعية</td>\n",
              "      <td>NaN</td>\n",
              "    </tr>\n",
              "    <tr>\n",
              "      <th>2</th>\n",
              "      <td>اعترافات رجل يكره يحب يعشق يبغض النساء</td>\n",
              "      <td>سهر الليالي</td>\n",
              "      <td>2004.0</td>\n",
              "      <td>39744.0</td>\n",
              "      <td>NaN</td>\n",
              "      <td>دراما -رومانسية - واقعية</td>\n",
              "      <td>اجتماعية</td>\n",
              "      <td>NaN</td>\n",
              "    </tr>\n",
              "    <tr>\n",
              "      <th>3</th>\n",
              "      <td>بقراري ضيعت نفسي و أحبابي</td>\n",
              "      <td>الجوري</td>\n",
              "      <td>2004.0</td>\n",
              "      <td>52384.0</td>\n",
              "      <td>NaN</td>\n",
              "      <td>دراما -رومانسية - واقعية</td>\n",
              "      <td>اجتماعية</td>\n",
              "      <td>NaN</td>\n",
              "    </tr>\n",
              "    <tr>\n",
              "      <th>4</th>\n",
              "      <td>ذنبي إني لقيط</td>\n",
              "      <td>الـ ج ـوري</td>\n",
              "      <td>2004.0</td>\n",
              "      <td>32235.0</td>\n",
              "      <td>NaN</td>\n",
              "      <td>دراما- جريمة -واقعية</td>\n",
              "      <td>اجتماعية</td>\n",
              "      <td>NaN</td>\n",
              "    </tr>\n",
              "  </tbody>\n",
              "</table>\n",
              "</div>"
            ],
            "text/plain": [
              "                                     Name  ... country\n",
              "0     إليك يامن زرعت في قلبي أزهار الربيع  ...     NaN\n",
              "1                مدرسة المشاغبين السبع !   ...     NaN\n",
              "2  اعترافات رجل يكره يحب يعشق يبغض النساء  ...     NaN\n",
              "3               بقراري ضيعت نفسي و أحبابي  ...     NaN\n",
              "4                           ذنبي إني لقيط  ...     NaN\n",
              "\n",
              "[5 rows x 8 columns]"
            ]
          },
          "metadata": {
            "tags": []
          },
          "execution_count": 11
        }
      ]
    },
    {
      "cell_type": "code",
      "metadata": {
        "id": "KAQtJID7jG-k",
        "colab_type": "code",
        "colab": {
          "base_uri": "https://localhost:8080/",
          "height": 323
        },
        "outputId": "f09ea919-432a-4460-a354-8449fc16c737"
      },
      "source": [
        "\n",
        "#we need to merge text files with thier content by Name\n",
        "df = data.merge(metadata, on=\"Name\", how = 'inner')\n",
        "df.head()"
      ],
      "execution_count": 12,
      "outputs": [
        {
          "output_type": "execute_result",
          "data": {
            "text/html": [
              "<div>\n",
              "<style scoped>\n",
              "    .dataframe tbody tr th:only-of-type {\n",
              "        vertical-align: middle;\n",
              "    }\n",
              "\n",
              "    .dataframe tbody tr th {\n",
              "        vertical-align: top;\n",
              "    }\n",
              "\n",
              "    .dataframe thead th {\n",
              "        text-align: right;\n",
              "    }\n",
              "</style>\n",
              "<table border=\"1\" class=\"dataframe\">\n",
              "  <thead>\n",
              "    <tr style=\"text-align: right;\">\n",
              "      <th></th>\n",
              "      <th>FileName</th>\n",
              "      <th>Content</th>\n",
              "      <th>Name</th>\n",
              "      <th>Author</th>\n",
              "      <th>Year</th>\n",
              "      <th># of Words</th>\n",
              "      <th>Parts, if available</th>\n",
              "      <th>content_types</th>\n",
              "      <th>novels_class</th>\n",
              "      <th>country</th>\n",
              "    </tr>\n",
              "  </thead>\n",
              "  <tbody>\n",
              "    <tr>\n",
              "      <th>0</th>\n",
              "      <td>بدر سامحني.txt</td>\n",
              "      <td>\\nالفصل الاول\\n\\nانسدحت على السرير ويدها تحت ر...</td>\n",
              "      <td>بدر سامحني</td>\n",
              "      <td>بائعة الزهور</td>\n",
              "      <td>NaN</td>\n",
              "      <td>43219.0</td>\n",
              "      <td>NaN</td>\n",
              "      <td>NaN</td>\n",
              "      <td>NaN</td>\n",
              "      <td>NaN</td>\n",
              "    </tr>\n",
              "    <tr>\n",
              "      <th>1</th>\n",
              "      <td>الورطة 2.txt</td>\n",
              "      <td>\\n.................\\nنجود تراقب المكان ,, يمكن...</td>\n",
              "      <td>الورطة 2</td>\n",
              "      <td>البرق الرومانسي</td>\n",
              "      <td>2011.0</td>\n",
              "      <td>28404.0</td>\n",
              "      <td>NaN</td>\n",
              "      <td>دراما- رومانسية- كوميديا</td>\n",
              "      <td>عاطفية</td>\n",
              "      <td>NaN</td>\n",
              "    </tr>\n",
              "    <tr>\n",
              "      <th>2</th>\n",
              "      <td>بضمك ضمة التايه عـن العالم و هو غفيان.txt</td>\n",
              "      <td>كانت جالسه على سريرها وتطالع بجسمها\\nودموعها ب...</td>\n",
              "      <td>بضمك ضمة التايه عـن العالم و هو غفيان</td>\n",
              "      <td>NaN</td>\n",
              "      <td>NaN</td>\n",
              "      <td>7127.0</td>\n",
              "      <td>NaN</td>\n",
              "      <td>NaN</td>\n",
              "      <td>NaN</td>\n",
              "      <td>NaN</td>\n",
              "    </tr>\n",
              "    <tr>\n",
              "      <th>3</th>\n",
              "      <td>برد وجفا ونسمة هوى 2.txt</td>\n",
              "      <td>الجزء الثاني والثلاثون\\nالفصل الأول\\nأريد’ أمـ...</td>\n",
              "      <td>برد وجفا ونسمة هوى 2</td>\n",
              "      <td>وصيت قلبي عليك</td>\n",
              "      <td>NaN</td>\n",
              "      <td>77097.0</td>\n",
              "      <td>NaN</td>\n",
              "      <td>NaN</td>\n",
              "      <td>NaN</td>\n",
              "      <td>NaN</td>\n",
              "    </tr>\n",
              "    <tr>\n",
              "      <th>4</th>\n",
              "      <td>الموت ولا بعدك يا ولد الناس.txt</td>\n",
              "      <td>\\n\\nعلى سريرها الكبير .. تتقلب يمين وشمآل .. ض...</td>\n",
              "      <td>الموت ولا بعدك يا ولد الناس</td>\n",
              "      <td>آهآت مبعثرة</td>\n",
              "      <td>2013.0</td>\n",
              "      <td>58021.0</td>\n",
              "      <td>NaN</td>\n",
              "      <td>دراما- رومانسية</td>\n",
              "      <td>عاطفية</td>\n",
              "      <td>NaN</td>\n",
              "    </tr>\n",
              "  </tbody>\n",
              "</table>\n",
              "</div>"
            ],
            "text/plain": [
              "                                    FileName  ... country\n",
              "0                             بدر سامحني.txt  ...     NaN\n",
              "1                               الورطة 2.txt  ...     NaN\n",
              "2  بضمك ضمة التايه عـن العالم و هو غفيان.txt  ...     NaN\n",
              "3                   برد وجفا ونسمة هوى 2.txt  ...     NaN\n",
              "4            الموت ولا بعدك يا ولد الناس.txt  ...     NaN\n",
              "\n",
              "[5 rows x 10 columns]"
            ]
          },
          "metadata": {
            "tags": []
          },
          "execution_count": 12
        }
      ]
    },
    {
      "cell_type": "code",
      "metadata": {
        "id": "EQNFBi3Rr5rk",
        "colab_type": "code",
        "colab": {
          "base_uri": "https://localhost:8080/",
          "height": 34
        },
        "outputId": "2fc3c036-688f-4541-8cb3-679a03e76da7"
      },
      "source": [
        "df.shape"
      ],
      "execution_count": 13,
      "outputs": [
        {
          "output_type": "execute_result",
          "data": {
            "text/plain": [
              "(588, 10)"
            ]
          },
          "metadata": {
            "tags": []
          },
          "execution_count": 13
        }
      ]
    },
    {
      "cell_type": "code",
      "metadata": {
        "id": "r_FoaA0Uj5Fv",
        "colab_type": "code",
        "colab": {}
      },
      "source": [
        "#remove  unnecessary columns\n",
        "df.drop(['FileName','Parts, if available',\"country\",\"Author\"],\n",
        "  axis=1, inplace=True)"
      ],
      "execution_count": 14,
      "outputs": []
    },
    {
      "cell_type": "code",
      "metadata": {
        "id": "lTwQBIDYlugm",
        "colab_type": "code",
        "colab": {}
      },
      "source": [
        "#drop null values \n",
        "df = df[pd.notnull(df['novels_class'])]"
      ],
      "execution_count": 15,
      "outputs": []
    },
    {
      "cell_type": "code",
      "metadata": {
        "id": "cXybWvq-miuS",
        "colab_type": "code",
        "colab": {
          "base_uri": "https://localhost:8080/",
          "height": 34
        },
        "outputId": "1593ce25-93c7-4afa-9e59-b7e936fb3a97"
      },
      "source": [
        "df.shape"
      ],
      "execution_count": 16,
      "outputs": [
        {
          "output_type": "execute_result",
          "data": {
            "text/plain": [
              "(235, 6)"
            ]
          },
          "metadata": {
            "tags": []
          },
          "execution_count": 16
        }
      ]
    },
    {
      "cell_type": "code",
      "metadata": {
        "id": "fdIWUu6mtpEW",
        "colab_type": "code",
        "colab": {
          "base_uri": "https://localhost:8080/",
          "height": 204
        },
        "outputId": "2bf90301-ab5c-4f7f-e9df-db540bef211a"
      },
      "source": [
        "#check classes \n",
        "df['novels_class'].value_counts()\n"
      ],
      "execution_count": 17,
      "outputs": [
        {
          "output_type": "execute_result",
          "data": {
            "text/plain": [
              "عاطفية       106\n",
              " عاطفية       53\n",
              "واقعية        19\n",
              "اجتماعية      19\n",
              " اجتماعية     12\n",
              "خيالية        11\n",
              "عاطفية         7\n",
              "واقعية         5\n",
              "وجدانية        2\n",
              "بوليسية        1\n",
              "Name: novels_class, dtype: int64"
            ]
          },
          "metadata": {
            "tags": []
          },
          "execution_count": 17
        }
      ]
    },
    {
      "cell_type": "markdown",
      "metadata": {
        "id": "J_Lkr7_P0kkd",
        "colab_type": "text"
      },
      "source": [
        "we notice that some of the classes duplicate in even it's unique"
      ]
    },
    {
      "cell_type": "markdown",
      "metadata": {
        "id": "WoXFRE6X1_Yu",
        "colab_type": "text"
      },
      "source": [
        "so maybe it's related to spaces exist in some classes"
      ]
    },
    {
      "cell_type": "code",
      "metadata": {
        "id": "SpenYCZazIze",
        "colab_type": "code",
        "colab": {}
      },
      "source": [
        "# function to remove space from our novels_class\n",
        "def remove_space(word):\n",
        "    word = str(word)\n",
        "    word = word.replace(' ','')\n",
        "    return word\n",
        "\n",
        "df['novels_class'] = df['novels_class'].apply(remove_space)"
      ],
      "execution_count": 18,
      "outputs": []
    },
    {
      "cell_type": "code",
      "metadata": {
        "id": "6oJumoqR2DYo",
        "colab_type": "code",
        "colab": {
          "base_uri": "https://localhost:8080/",
          "height": 136
        },
        "outputId": "403bc343-1034-4926-dda0-041892149920"
      },
      "source": [
        "df['novels_class'].value_counts()"
      ],
      "execution_count": 19,
      "outputs": [
        {
          "output_type": "execute_result",
          "data": {
            "text/plain": [
              "عاطفية      166\n",
              "اجتماعية     31\n",
              "واقعية       24\n",
              "خيالية       11\n",
              "وجدانية       2\n",
              "بوليسية       1\n",
              "Name: novels_class, dtype: int64"
            ]
          },
          "metadata": {
            "tags": []
          },
          "execution_count": 19
        }
      ]
    },
    {
      "cell_type": "code",
      "metadata": {
        "id": "HG4DDTTq5uEJ",
        "colab_type": "code",
        "colab": {
          "base_uri": "https://localhost:8080/",
          "height": 272
        },
        "outputId": "91ff3d7c-5b74-418e-c2c0-f650968aaeb5"
      },
      "source": [
        "df['Year'].value_counts()"
      ],
      "execution_count": 20,
      "outputs": [
        {
          "output_type": "execute_result",
          "data": {
            "text/plain": [
              "2010.0    65\n",
              "2011.0    52\n",
              "2009.0    30\n",
              "2008.0    27\n",
              "2012.0    21\n",
              "2007.0    12\n",
              "2013.0    11\n",
              "2006.0     7\n",
              "2015.0     4\n",
              "2004.0     2\n",
              "2003.0     1\n",
              "2017.0     1\n",
              "2014.0     1\n",
              "2005.0     1\n",
              "Name: Year, dtype: int64"
            ]
          },
          "metadata": {
            "tags": []
          },
          "execution_count": 20
        }
      ]
    },
    {
      "cell_type": "code",
      "metadata": {
        "id": "uvs7lEuT0HOx",
        "colab_type": "code",
        "colab": {}
      },
      "source": [
        "df['Year']=pd.to_datetime(df['Year'], format='%Y')"
      ],
      "execution_count": 21,
      "outputs": []
    },
    {
      "cell_type": "markdown",
      "metadata": {
        "id": "9Cx_8Xeybb9M",
        "colab_type": "text"
      },
      "source": [
        "we have little numbers of values in some classes so we have to remove them."
      ]
    },
    {
      "cell_type": "code",
      "metadata": {
        "id": "lUT_WnDZTOz4",
        "colab_type": "code",
        "colab": {}
      },
      "source": [
        "#remove Number of classes\n",
        "df = df[df['novels_class'] != \"وجدانية\"] \n",
        "df = df[df['novels_class'] != \"بوليسية\"] \n",
        "df = df[df['novels_class'] != \"خيالية\"] \n"
      ],
      "execution_count": 30,
      "outputs": []
    },
    {
      "cell_type": "code",
      "metadata": {
        "id": "qcLfvVYbUL0Z",
        "colab_type": "code",
        "colab": {
          "base_uri": "https://localhost:8080/",
          "height": 85
        },
        "outputId": "a49cefda-7f5c-4c33-c3aa-4cdfddbda58b"
      },
      "source": [
        "df['novels_class'].value_counts()"
      ],
      "execution_count": 31,
      "outputs": [
        {
          "output_type": "execute_result",
          "data": {
            "text/plain": [
              "عاطفية      166\n",
              "اجتماعية     31\n",
              "واقعية       24\n",
              "Name: novels_class, dtype: int64"
            ]
          },
          "metadata": {
            "tags": []
          },
          "execution_count": 31
        }
      ]
    },
    {
      "cell_type": "markdown",
      "metadata": {
        "id": "30ihjkq42K8_",
        "colab_type": "text"
      },
      "source": [
        "Greate!"
      ]
    },
    {
      "cell_type": "markdown",
      "metadata": {
        "id": "0ze9_OPRvNyV",
        "colab_type": "text"
      },
      "source": [
        "### Data cleaning :"
      ]
    },
    {
      "cell_type": "code",
      "metadata": {
        "id": "lZuDwxvsqSk8",
        "colab_type": "code",
        "colab": {}
      },
      "source": [
        "REPLACE_BY_SPACE_RE = re.compile('[/(){}\\[\\]\\|@,;*%¢π•=]')\n",
        "BAD_SYMBOLS_RE = re.compile('[^0-9a-z #+_]')\n",
        "STOPWORDS = set(stopwords.words('arabic'))\n",
        "\n",
        "def clean_text(text):\n",
        "    \"\"\"\n",
        "        text: a string\n",
        "        \n",
        "        return: modified initial string\n",
        "    \"\"\"\n",
        "    text = REPLACE_BY_SPACE_RE.sub(' ', text) # replace REPLACE_BY_SPACE_RE symbols by space in text. substitute the matched string in REPLACE_BY_SPACE_RE with space.\n",
        "    text = BAD_SYMBOLS_RE.sub('', text) # remove symbols which are in BAD_SYMBOLS_RE from text. substitute the matched string in BAD_SYMBOLS_RE with nothing. \n",
        "    text = text.replace('x', '')\n",
        "    text= text.replace(\"\\t\\t\\t\", \"\\t\")\n",
        "    text= text.replace(\"\\r\\r\\n\", \"\\n\")\n",
        "    text= text.replace(\"\\r\\n\",\"\\n\")\n",
        "    text= text.replace(\"\\t\\n\", \"\\n\")\n",
        "#    text = re.sub(r'\\W+', '', text)\n",
        "    text = ' '.join(word for word in text.split() if word not in STOPWORDS) # remove stopwors from text\n",
        "    return text\n",
        "df['Content'] = df['Content'].apply(clean_text)\n",
        "df['Content'] = df['Content'].str.replace('\\d+', '')\n"
      ],
      "execution_count": 32,
      "outputs": []
    },
    {
      "cell_type": "markdown",
      "metadata": {
        "id": "wOob95g_vVIF",
        "colab_type": "text"
      },
      "source": [
        "### Data preprocessing:"
      ]
    },
    {
      "cell_type": "code",
      "metadata": {
        "id": "LJy-eb142F97",
        "colab_type": "code",
        "colab": {
          "base_uri": "https://localhost:8080/",
          "height": 34
        },
        "outputId": "c85f81bf-71cf-4925-8fd4-0b5b87bdc990"
      },
      "source": [
        "# feature selection  \n",
        "X=df['Content']\n",
        "\n",
        "#convert target by using LabelEncoder\n",
        "le = preprocessing.LabelEncoder()\n",
        "le.fit(df.novels_class)\n",
        "le.classes_  \n",
        "y=le.transform(df.novels_class)\n",
        "\n",
        "print(max(pd.Series(y).value_counts(normalize=True)))"
      ],
      "execution_count": 33,
      "outputs": [
        {
          "output_type": "stream",
          "text": [
            "0.751131221719457\n"
          ],
          "name": "stdout"
        }
      ]
    },
    {
      "cell_type": "code",
      "metadata": {
        "id": "dShXzhVR3DED",
        "colab_type": "code",
        "colab": {}
      },
      "source": [
        "# comment tfidf vectorization\n",
        "tfidf = TfidfVectorizer(sublinear_tf=True, min_df=3, norm='l2', ngram_range=(1, 2), encoding='utf-8')\n",
        "features = tfidf.fit_transform(X).toarray()\n",
        "labels = y\n"
      ],
      "execution_count": 34,
      "outputs": []
    },
    {
      "cell_type": "code",
      "metadata": {
        "id": "3R0B9nUu3p2S",
        "colab_type": "code",
        "colab": {
          "base_uri": "https://localhost:8080/",
          "height": 34
        },
        "outputId": "9fb1045a-4778-4ab4-f3b4-38895ecefd7e"
      },
      "source": [
        "# train test split \n",
        "X_train, X_test, y_train, y_test = train_test_split(features, labels, test_size=0.2, random_state = 0)\n",
        "features.shape\n"
      ],
      "execution_count": 35,
      "outputs": [
        {
          "output_type": "execute_result",
          "data": {
            "text/plain": [
              "(221, 128240)"
            ]
          },
          "metadata": {
            "tags": []
          },
          "execution_count": 35
        }
      ]
    },
    {
      "cell_type": "code",
      "metadata": {
        "id": "2RfMgkMa4c9L",
        "colab_type": "code",
        "colab": {
          "base_uri": "https://localhost:8080/",
          "height": 85
        },
        "outputId": "5d4df901-6614-4cc0-b24c-3b225064badc"
      },
      "source": [
        "print(pd.Series(y).value_counts())\n"
      ],
      "execution_count": 36,
      "outputs": [
        {
          "output_type": "stream",
          "text": [
            "1    166\n",
            "0     31\n",
            "2     24\n",
            "dtype: int64\n"
          ],
          "name": "stdout"
        }
      ]
    },
    {
      "cell_type": "markdown",
      "metadata": {
        "id": "Irxvx4BQv4m1",
        "colab_type": "text"
      },
      "source": [
        "### Ensemble Modeling"
      ]
    },
    {
      "cell_type": "code",
      "metadata": {
        "id": "7ISF9z6I6VMI",
        "colab_type": "code",
        "colab": {
          "base_uri": "https://localhost:8080/",
          "height": 119
        },
        "outputId": "b58bf553-82f7-486e-bbe2-05a904246dc6"
      },
      "source": [
        "\n",
        "# create list contain of classfication models \n",
        "models = [\n",
        "    RandomForestClassifier(n_estimators=200, max_depth=10, random_state=0),\n",
        "    LinearSVC(),\n",
        "    MultinomialNB(),\n",
        "    LogisticRegression(random_state=0),\n",
        "]\n",
        "\n",
        "CV = 10\n",
        "cv_df = pd.DataFrame(index=range(CV * len(models)))\n",
        "entries = []\n",
        "for model in models:\n",
        "    model_name = model.__class__.__name__\n",
        "    accuracies = cross_val_score(model, features, labels, scoring='accuracy', cv=CV)\n",
        "    for fold_idx, accuracy in enumerate(accuracies):\n",
        "        entries.append((model_name, fold_idx, accuracy))\n",
        "cv_df = pd.DataFrame(entries, columns=['model_name', 'fold_idx', 'accuracy'])\n",
        "\n",
        "cv_df.groupby('model_name').accuracy.mean()"
      ],
      "execution_count": 37,
      "outputs": [
        {
          "output_type": "execute_result",
          "data": {
            "text/plain": [
              "model_name\n",
              "LinearSVC                 0.733202\n",
              "LogisticRegression        0.751186\n",
              "MultinomialNB             0.751186\n",
              "RandomForestClassifier    0.751186\n",
              "Name: accuracy, dtype: float64"
            ]
          },
          "metadata": {
            "tags": []
          },
          "execution_count": 37
        }
      ]
    },
    {
      "cell_type": "code",
      "metadata": {
        "id": "70ubTTae-QBH",
        "colab_type": "code",
        "colab": {
          "base_uri": "https://localhost:8080/",
          "height": 280
        },
        "outputId": "9a0d5111-de88-4726-a52a-8e576544c8e7"
      },
      "source": [
        "\n",
        "sns.boxplot(x='model_name', y='accuracy', data=cv_df)\n",
        "sns.stripplot(x='model_name', y='accuracy', data=cv_df, \n",
        "              size=8, jitter=True, edgecolor=\"gray\", linewidth=2)\n",
        "plt.show()"
      ],
      "execution_count": 38,
      "outputs": [
        {
          "output_type": "display_data",
          "data": {
            "image/png": "[encoded data removed]",
            "text/plain": [
              "<Figure size 432x288 with 1 Axes>"
            ]
          },
          "metadata": {
            "tags": [],
            "needs_background": "light"
          }
        }
      ]
    },
    {
      "cell_type": "markdown",
      "metadata": {
        "id": "r4cMNI4AC73H",
        "colab_type": "text"
      },
      "source": [
        "## LSTM Modeling\n",
        "\n",
        "- Vectorize consumer complaints text, by turning each text - into either a sequence of integers or into a vector.\n",
        "- Limit the data set to the top 5,0000 words.\n",
        "- Set the max number of words in each complaint at 250."
      ]
    },
    {
      "cell_type": "code",
      "metadata": {
        "id": "mnZfKN1464Nm",
        "colab_type": "code",
        "colab": {
          "base_uri": "https://localhost:8080/",
          "height": 34
        },
        "outputId": "a00f379b-a6da-45b7-e79b-9b0977c03391"
      },
      "source": [
        "# The maximum number of words to be used. (most frequent)\n",
        "MAX_NB_WORDS = 50000\n",
        "# Max number of words in each complaint.\n",
        "MAX_SEQUENCE_LENGTH = 250\n",
        "# This is fixed.\n",
        "EMBEDDING_DIM = 100\n",
        "tokenizer = Tokenizer(num_words=MAX_NB_WORDS, filters='!\"#$%&()*+,-./:;<=>?@[\\]^_`{|}~', lower=True)\n",
        "tokenizer.fit_on_texts(df['Content'].values)\n",
        "word_index = tokenizer.word_index\n",
        "print('Found %s unique tokens.' % len(word_index))"
      ],
      "execution_count": 39,
      "outputs": [
        {
          "output_type": "stream",
          "text": [
            "Found 172220 unique tokens.\n"
          ],
          "name": "stdout"
        }
      ]
    },
    {
      "cell_type": "markdown",
      "metadata": {
        "id": "ASd1P9OsDWrP",
        "colab_type": "text"
      },
      "source": [
        "Truncate and pad the input sequences so that they are all in the same length for modeling."
      ]
    },
    {
      "cell_type": "code",
      "metadata": {
        "id": "mmnqIG6mDFTk",
        "colab_type": "code",
        "colab": {
          "base_uri": "https://localhost:8080/",
          "height": 34
        },
        "outputId": "2ad07dbf-81d5-47f8-b298-89bb72823551"
      },
      "source": [
        "X = tokenizer.texts_to_sequences(df['Content'].values)\n",
        "X = pad_sequences(X, maxlen=MAX_SEQUENCE_LENGTH)\n",
        "print('Shape of data tensor:', X.shape)"
      ],
      "execution_count": 40,
      "outputs": [
        {
          "output_type": "stream",
          "text": [
            "Shape of data tensor: (221, 250)\n"
          ],
          "name": "stdout"
        }
      ]
    },
    {
      "cell_type": "markdown",
      "metadata": {
        "id": "q0zsn9VfD-Ty",
        "colab_type": "text"
      },
      "source": [
        "Converting categorical labels to numbers.\n"
      ]
    },
    {
      "cell_type": "code",
      "metadata": {
        "id": "9xxdJSZBD2E8",
        "colab_type": "code",
        "colab": {
          "base_uri": "https://localhost:8080/",
          "height": 34
        },
        "outputId": "28bd7c1d-9cca-4bef-fcc1-a82aefec42f2"
      },
      "source": [
        "Y = pd.get_dummies(df[\"novels_class\"]).values\n",
        "print('Shape of label tensor:', Y.shape)"
      ],
      "execution_count": 41,
      "outputs": [
        {
          "output_type": "stream",
          "text": [
            "Shape of label tensor: (221, 3)\n"
          ],
          "name": "stdout"
        }
      ]
    },
    {
      "cell_type": "markdown",
      "metadata": {
        "id": "QHknwj0LETi_",
        "colab_type": "text"
      },
      "source": [
        "Train test split.\n"
      ]
    },
    {
      "cell_type": "code",
      "metadata": {
        "id": "2TYFufr1EKYu",
        "colab_type": "code",
        "colab": {
          "base_uri": "https://localhost:8080/",
          "height": 51
        },
        "outputId": "7bb4d6ef-da8f-4aaf-87c3-51b1ee09dfb6"
      },
      "source": [
        "X_train, X_test, Y_train, Y_test = train_test_split(X,Y, test_size = 0.10, random_state = 42)\n",
        "print(X_train.shape,Y_train.shape)\n",
        "print(X_test.shape,Y_test.shape)"
      ],
      "execution_count": 42,
      "outputs": [
        {
          "output_type": "stream",
          "text": [
            "(198, 250) (198, 3)\n",
            "(23, 250) (23, 3)\n"
          ],
          "name": "stdout"
        }
      ]
    },
    {
      "cell_type": "markdown",
      "metadata": {
        "id": "b6PSIAVmuMW4",
        "colab_type": "text"
      },
      "source": [
        "### model building:"
      ]
    },
    {
      "cell_type": "code",
      "metadata": {
        "id": "5cTc-cYEERDS",
        "colab_type": "code",
        "colab": {
          "base_uri": "https://localhost:8080/",
          "height": 445
        },
        "outputId": "3f873ac0-d110-4a9a-e4c2-95288f5f7df9"
      },
      "source": [
        "model = Sequential()\n",
        "model.add(Embedding(MAX_NB_WORDS, EMBEDDING_DIM, input_length=X.shape[1]))\n",
        "model.add(SpatialDropout1D(0.2))\n",
        "model.add(LSTM(64, dropout=0.2, recurrent_dropout=0.2))\n",
        "model.add(Dense(3, activation='softmax'))\n",
        "model.compile(loss='categorical_crossentropy', optimizer='adam', metrics=['accuracy'])\n",
        "\n",
        "epochs = 100\n",
        "batch_size = 64\n",
        "\n",
        "history = model.fit(X_train, Y_train, epochs=epochs, batch_size=batch_size,validation_split=0.1,callbacks=[EarlyStopping(monitor='val_loss', patience=3, min_delta=0.0001)])\n"
      ],
      "execution_count": 43,
      "outputs": [
        {
          "output_type": "stream",
          "text": [
            "Epoch 1/100\n",
            "3/3 [==============================] - 1s 416ms/step - loss: 1.0888 - accuracy: 0.5225 - val_loss: 1.0546 - val_accuracy: 0.7500\n",
            "Epoch 2/100\n",
            "3/3 [==============================] - 1s 307ms/step - loss: 1.0376 - accuracy: 0.7416 - val_loss: 1.0009 - val_accuracy: 0.7500\n",
            "Epoch 3/100\n",
            "3/3 [==============================] - 1s 295ms/step - loss: 0.9679 - accuracy: 0.7416 - val_loss: 0.9168 - val_accuracy: 0.7500\n",
            "Epoch 4/100\n",
            "3/3 [==============================] - 1s 317ms/step - loss: 0.8664 - accuracy: 0.7416 - val_loss: 0.8037 - val_accuracy: 0.7500\n",
            "Epoch 5/100\n",
            "3/3 [==============================] - 1s 293ms/step - loss: 0.7670 - accuracy: 0.7416 - val_loss: 0.8786 - val_accuracy: 0.7500\n",
            "Epoch 6/100\n",
            "3/3 [==============================] - 1s 306ms/step - loss: 0.7636 - accuracy: 0.7416 - val_loss: 0.8315 - val_accuracy: 0.7500\n",
            "Epoch 7/100\n",
            "3/3 [==============================] - 1s 293ms/step - loss: 0.7101 - accuracy: 0.7416 - val_loss: 0.7864 - val_accuracy: 0.7500\n",
            "Epoch 8/100\n",
            "3/3 [==============================] - 1s 301ms/step - loss: 0.6817 - accuracy: 0.7416 - val_loss: 0.7795 - val_accuracy: 0.7500\n",
            "Epoch 9/100\n",
            "3/3 [==============================] - 1s 299ms/step - loss: 0.6778 - accuracy: 0.7416 - val_loss: 0.7763 - val_accuracy: 0.7500\n",
            "Epoch 10/100\n",
            "3/3 [==============================] - 1s 304ms/step - loss: 0.6668 - accuracy: 0.7416 - val_loss: 0.7763 - val_accuracy: 0.7500\n",
            "Epoch 11/100\n",
            "3/3 [==============================] - 1s 301ms/step - loss: 0.6486 - accuracy: 0.7584 - val_loss: 0.7817 - val_accuracy: 0.7500\n",
            "Epoch 12/100\n",
            "3/3 [==============================] - 1s 301ms/step - loss: 0.6333 - accuracy: 0.7584 - val_loss: 0.7886 - val_accuracy: 0.7500\n"
          ],
          "name": "stdout"
        }
      ]
    },
    {
      "cell_type": "markdown",
      "metadata": {
        "id": "9nuoIc27uZwf",
        "colab_type": "text"
      },
      "source": [
        "### model evaluation:"
      ]
    },
    {
      "cell_type": "code",
      "metadata": {
        "id": "BXJSUxIjEenN",
        "colab_type": "code",
        "colab": {
          "base_uri": "https://localhost:8080/",
          "height": 85
        },
        "outputId": "0b23c03a-472f-4fff-dc88-3432d32d8cbd"
      },
      "source": [
        "accr = model.evaluate(X_test,Y_test)\n",
        "print('Test set\\n  Loss: {:0.3f}\\n  Accuracy: {:0.3f}'.format(accr[0],accr[1]))"
      ],
      "execution_count": 44,
      "outputs": [
        {
          "output_type": "stream",
          "text": [
            "1/1 [==============================] - 0s 2ms/step - loss: 0.6546 - accuracy: 0.8261\n",
            "Test set\n",
            "  Loss: 0.655\n",
            "  Accuracy: 0.826\n"
          ],
          "name": "stdout"
        }
      ]
    },
    {
      "cell_type": "code",
      "metadata": {
        "id": "cx2WHhl7R6Qn",
        "colab_type": "code",
        "colab": {
          "base_uri": "https://localhost:8080/",
          "height": 281
        },
        "outputId": "f8e99fbd-a792-4163-c93c-0b340812383b"
      },
      "source": [
        "plt.title('Loss')\n",
        "plt.plot(history.history['loss'], label='train')\n",
        "plt.plot(history.history['val_loss'], label='test')\n",
        "plt.legend()\n",
        "plt.show();"
      ],
      "execution_count": 45,
      "outputs": [
        {
          "output_type": "display_data",
          "data": {
            "image/png": "[encoded data removed]",
            "text/plain": [
              "<Figure size 432x288 with 1 Axes>"
            ]
          },
          "metadata": {
            "tags": [],
            "needs_background": "light"
          }
        }
      ]
    },
    {
      "cell_type": "code",
      "metadata": {
        "id": "3mmeRh0TsXGL",
        "colab_type": "code",
        "colab": {
          "base_uri": "https://localhost:8080/",
          "height": 281
        },
        "outputId": "5588b405-549e-452e-9c17-d2ea794dd8b5"
      },
      "source": [
        "plt.title('Accuracy')\n",
        "plt.plot(history.history['accuracy'], label='train')\n",
        "plt.plot(history.history['val_accuracy'], label='test')\n",
        "plt.legend()\n",
        "plt.show();"
      ],
      "execution_count": 46,
      "outputs": [
        {
          "output_type": "display_data",
          "data": {
            "image/png": "[encoded data removed]",
            "text/plain": [
              "<Figure size 432x288 with 1 Axes>"
            ]
          },
          "metadata": {
            "tags": [],
            "needs_background": "light"
          }
        }
      ]
    },
    {
      "cell_type": "markdown",
      "metadata": {
        "id": "CcBm7Tr7tRPO",
        "colab_type": "text"
      },
      "source": [
        "The plots suggest that the model has a little over fitting problem, more data may help, but more epochs will not help using the current data."
      ]
    }
  ]
}